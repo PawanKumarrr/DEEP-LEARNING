{
 "cells": [
  {
   "cell_type": "markdown",
   "id": "9c0eb6d4",
   "metadata": {},
   "source": [
    "## Creating Text Representation\n",
    "\n",
    "Text data needs to converted to numeric representation before they can be used to train deep learning models. The spam classificaitton feature data is converted to TF-IDF vectors and the target variable is converted to one-hot encoding"
   ]
  },
  {
   "cell_type": "code",
   "execution_count": 1,
   "id": "f3059402",
   "metadata": {},
   "outputs": [],
   "source": [
    "import pandas as pd\n",
    "import os\n",
    "import numpy as np\n",
    "from sklearn.model_selection import train_test_split\n",
    "from sklearn.preprocessing import scale"
   ]
  },
  {
   "cell_type": "code",
   "execution_count": null,
   "id": "83e4a10d",
   "metadata": {},
   "outputs": [],
   "source": []
  },
  {
   "cell_type": "code",
   "execution_count": 2,
   "id": "6b723bdb",
   "metadata": {},
   "outputs": [
    {
     "name": "stdout",
     "output_type": "stream",
     "text": [
      "  CLASS                                                SMS\n",
      "0   ham   said kiss, kiss, i can't do the sound effects...\n",
      "1   ham      &lt;#&gt; ISH MINUTES WAS 5 MINUTES AGO. WTF.\n",
      "2  spam  (Bank of Granite issues Strong-Buy) EXPLOSIVE ...\n",
      "3  spam  * FREE* POLYPHONIC RINGTONE Text SUPER to 8713...\n",
      "4  spam  **FREE MESSAGE**Thanks for using the Auction S...\n"
     ]
    }
   ],
   "source": [
    "#Load Spam data and review content\n",
    "spam_data = pd.read_csv(\"Spam-Classification.csv\")\n",
    "\n",
    "print(spam_data.head())"
   ]
  },
  {
   "cell_type": "code",
   "execution_count": 3,
   "id": "f0f83406",
   "metadata": {},
   "outputs": [],
   "source": [
    "# Seperate feature amd target into seperate values\n",
    "spam_classes_raw = spam_data[\"CLASS\"]\n",
    "spam_messages = spam_data[\"SMS\"]"
   ]
  },
  {
   "cell_type": "code",
   "execution_count": 4,
   "id": "3c64ef1f",
   "metadata": {},
   "outputs": [
    {
     "name": "stdout",
     "output_type": "stream",
     "text": [
      "WARNING:tensorflow:From C:\\Users\\chauh\\anaconda3\\Lib\\site-packages\\keras\\src\\losses.py:2976: The name tf.losses.sparse_softmax_cross_entropy is deprecated. Please use tf.compat.v1.losses.sparse_softmax_cross_entropy instead.\n",
      "\n"
     ]
    },
    {
     "name": "stderr",
     "output_type": "stream",
     "text": [
      "[nltk_data] Downloading package stopwords to\n",
      "[nltk_data]     C:\\Users\\chauh\\AppData\\Roaming\\nltk_data...\n",
      "[nltk_data]   Package stopwords is already up-to-date!\n",
      "[nltk_data] Downloading package wordnet to\n",
      "[nltk_data]     C:\\Users\\chauh\\AppData\\Roaming\\nltk_data...\n",
      "[nltk_data]   Package wordnet is already up-to-date!\n",
      "C:\\Users\\chauh\\anaconda3\\Lib\\site-packages\\sklearn\\feature_extraction\\text.py:525: UserWarning: The parameter 'token_pattern' will not be used since 'tokenizer' is not None'\n",
      "  warnings.warn(\n"
     ]
    },
    {
     "name": "stdout",
     "output_type": "stream",
     "text": [
      "TF-IDF Matrix shape : (1500, 4566)\n",
      "One-hot Encoding Shape : (1500, 2)\n"
     ]
    }
   ],
   "source": [
    "import nltk\n",
    "from nltk.corpus import stopwords\n",
    "from nltk.stem import WordNetLemmatizer\n",
    "from sklearn.feature_extraction.text import TfidfVectorizer\n",
    "from sklearn.model_selection import train_test_split\n",
    "from sklearn import preprocessing\n",
    "import tensorflow as tf\n",
    "\n",
    "# Download NLTK stopwords and WordNet (if not already downloaded)\n",
    "nltk.download('stopwords')\n",
    "nltk.download('wordnet')\n",
    "\n",
    "# Create an instance of the WordNetLemmatizer\n",
    "lemmatizer = WordNetLemmatizer()\n",
    "\n",
    "\n",
    "#custom tokeniser to remove stopwords and use lemmatization\n",
    "\n",
    "def customtokenize(str):\n",
    "    #Split string as tokens\n",
    "    tokens = nltk.word_tokenize(str)\n",
    "    # Example: \"I love machine learning\" -> [\"I\", \"love\", \"machine\", \"learning\"]\n",
    "    \n",
    "    # Filter for stopwords\n",
    "    nostop = list(filter(lambda token: token not in stopwords.words('english'),tokens))\n",
    "    # Example: [\"I\", \"love\", \"machine\", \"learning\"] -> [\"love\", \"machine\", \"learning\"]\n",
    "    \n",
    "    #perform tokenization\n",
    "    lemmatized = [lemmatizer.lemmatize(word) for word in nostop]\n",
    "    # Example: [\"love\", \"machine\", \"learning\"] -> [\"love\", \"machine\", \"learn\"]\n",
    "    return lemmatized\n",
    "\n",
    "from sklearn.feature_extraction.text import TfidfVectorizer\n",
    "\n",
    "#Build a TF-IDF vectorizer model\n",
    "vectorizer = TfidfVectorizer(tokenizer=customtokenize)\n",
    "\n",
    "#Transform features input to TF-IDF\n",
    "tfidf = vectorizer.fit_transform(spam_messages)\n",
    "#convert TF-IDF to numpy array\n",
    "tfidf_array = tfidf.toarray()\n",
    "\n",
    "#Build a label encoder to target variable to convert strings to numeric values\n",
    "from sklearn import preprocessing\n",
    "label_encoder = preprocessing.LabelEncoder()\n",
    "spam_classes = label_encoder.fit_transform(spam_classes_raw)\n",
    "\n",
    "#Convert target to one-hot encoding vector\n",
    "spam_classes = tf.keras.utils.to_categorical(spam_classes,2)\n",
    "\n",
    "print(\"TF-IDF Matrix shape :\", tfidf.shape)\n",
    "print(\"One-hot Encoding Shape :\",spam_classes.shape)\n",
    "\n",
    "X_train,X_test,Y_train,Y_test = train_test_split(tfidf_array,spam_classes,test_size = 0.10)"
   ]
  },
  {
   "cell_type": "markdown",
   "id": "f355f8ac",
   "metadata": {},
   "source": [
    "## Building and Evaluating the Model"
   ]
  },
  {
   "cell_type": "code",
   "execution_count": 7,
   "id": "3a4d6aba",
   "metadata": {},
   "outputs": [
    {
     "name": "stdout",
     "output_type": "stream",
     "text": [
      "Model: \"sequential_1\"\n",
      "_________________________________________________________________\n",
      " Layer (type)                Output Shape              Param #   \n",
      "=================================================================\n",
      " Hidden-Layer-1 (Dense)      (None, 32)                146144    \n",
      "                                                                 \n",
      " Hidden-Layer-2 (Dense)      (None, 32)                1056      \n",
      "                                                                 \n",
      " Output-Layer (Dense)        (None, 2)                 66        \n",
      "                                                                 \n",
      "=================================================================\n",
      "Total params: 147266 (575.26 KB)\n",
      "Trainable params: 147266 (575.26 KB)\n",
      "Non-trainable params: 0 (0.00 Byte)\n",
      "_________________________________________________________________\n"
     ]
    }
   ],
   "source": [
    "from tensorflow import keras\n",
    "from tensorflow.keras import optimizers\n",
    "from tensorflow.keras.regularizers import l2\n",
    "\n",
    "\n",
    "#Setup Hyper Parameters for building the model\n",
    "NB_CLASSES = 2\n",
    "N_HIDDEN = 32\n",
    "\n",
    "model = tf.keras.models.Sequential()\n",
    "\n",
    "model.add(keras.layers.Dense(N_HIDDEN,input_shape = (X_train.shape[1],),\n",
    "                            name='Hidden-Layer-1',\n",
    "                            activation='relu'))\n",
    "model.add(keras.layers.Dense(N_HIDDEN,\n",
    "                            name = 'Hidden-Layer-2',\n",
    "                            activation='relu'))\n",
    "model.add(keras.layers.Dense(NB_CLASSES,\n",
    "                            name = 'Output-Layer',\n",
    "                            activation='softmax'))\n",
    "model.compile(loss='categorical_crossentropy',\n",
    "             metrics=['accuracy'])\n",
    "\n",
    "model.summary()"
   ]
  },
  {
   "cell_type": "code",
   "execution_count": 8,
   "id": "cd182581",
   "metadata": {},
   "outputs": [
    {
     "name": "stdout",
     "output_type": "stream",
     "text": [
      "Training\n",
      "Epoch 1/10\n",
      "WARNING:tensorflow:From C:\\Users\\chauh\\anaconda3\\Lib\\site-packages\\keras\\src\\utils\\tf_utils.py:492: The name tf.ragged.RaggedTensorValue is deprecated. Please use tf.compat.v1.ragged.RaggedTensorValue instead.\n",
      "\n",
      "WARNING:tensorflow:From C:\\Users\\chauh\\anaconda3\\Lib\\site-packages\\keras\\src\\engine\\base_layer_utils.py:384: The name tf.executing_eagerly_outside_functions is deprecated. Please use tf.compat.v1.executing_eagerly_outside_functions instead.\n",
      "\n",
      "5/5 [==============================] - 1s 99ms/step - loss: 0.6894 - accuracy: 0.5870 - val_loss: 0.6780 - val_accuracy: 0.8259\n",
      "Epoch 2/10\n",
      "5/5 [==============================] - 0s 17ms/step - loss: 0.6635 - accuracy: 0.9093 - val_loss: 0.6454 - val_accuracy: 0.8852\n",
      "Epoch 3/10\n",
      "5/5 [==============================] - 0s 18ms/step - loss: 0.6199 - accuracy: 0.9537 - val_loss: 0.6036 - val_accuracy: 0.9222\n",
      "Epoch 4/10\n",
      "5/5 [==============================] - 0s 16ms/step - loss: 0.5649 - accuracy: 0.9676 - val_loss: 0.5532 - val_accuracy: 0.9296\n",
      "Epoch 5/10\n",
      "5/5 [==============================] - 0s 16ms/step - loss: 0.5043 - accuracy: 0.9778 - val_loss: 0.5017 - val_accuracy: 0.9333\n",
      "Epoch 6/10\n",
      "5/5 [==============================] - 0s 17ms/step - loss: 0.4440 - accuracy: 0.9833 - val_loss: 0.4554 - val_accuracy: 0.9333\n",
      "Epoch 7/10\n",
      "5/5 [==============================] - 0s 17ms/step - loss: 0.3861 - accuracy: 0.9861 - val_loss: 0.4100 - val_accuracy: 0.9370\n",
      "Epoch 8/10\n",
      "5/5 [==============================] - 0s 17ms/step - loss: 0.3330 - accuracy: 0.9852 - val_loss: 0.3656 - val_accuracy: 0.9481\n",
      "Epoch 9/10\n",
      "5/5 [==============================] - 0s 17ms/step - loss: 0.2846 - accuracy: 0.9889 - val_loss: 0.3283 - val_accuracy: 0.9481\n",
      "Epoch 10/10\n",
      "5/5 [==============================] - 0s 17ms/step - loss: 0.2424 - accuracy: 0.9898 - val_loss: 0.2984 - val_accuracy: 0.9444\n"
     ]
    }
   ],
   "source": [
    "VERBOSE = 1\n",
    "\n",
    "#Setup HyperParameters for training\n",
    "BATCH_SIZE  = 256\n",
    "EPOCHS = 10\n",
    "VALIDATION_SPLIT = 0.2\n",
    "\n",
    "print(\"Training\")\n",
    "\n",
    "history = model.fit(X_train,\n",
    "                   Y_train,\n",
    "                   batch_size = BATCH_SIZE,\n",
    "                   epochs = EPOCHS,\n",
    "                   verbose = VERBOSE,\n",
    "                   validation_split = VALIDATION_SPLIT)"
   ]
  },
  {
   "cell_type": "code",
   "execution_count": 9,
   "id": "bde7b6e0",
   "metadata": {},
   "outputs": [
    {
     "data": {
      "image/png": "[encoded data removed]",
      "text/plain": [
       "<Figure size 800x500 with 1 Axes>"
      ]
     },
     "metadata": {},
     "output_type": "display_data"
    }
   ],
   "source": [
    "import matplotlib.pyplot as plt\n",
    "\n",
    "pd.DataFrame(history.history)[\"accuracy\"].plot(figsize=(8,5))\n",
    "plt.title(\"Accuracy improvement with EPOCH\")\n",
    "plt.show()\n"
   ]
  },
  {
   "cell_type": "code",
   "execution_count": 10,
   "id": "56506169",
   "metadata": {},
   "outputs": [
    {
     "name": "stdout",
     "output_type": "stream",
     "text": [
      "5/5 [==============================] - 0s 5ms/step - loss: 0.3118 - accuracy: 0.9333\n"
     ]
    },
    {
     "data": {
      "text/plain": [
       "[0.31177613139152527, 0.9333333373069763]"
      ]
     },
     "execution_count": 10,
     "metadata": {},
     "output_type": "execute_result"
    }
   ],
   "source": [
    "model.evaluate(X_test,Y_test)"
   ]
  },
  {
   "cell_type": "markdown",
   "id": "4e8a3046",
   "metadata": {},
   "source": [
    "## Predicting for Text"
   ]
  },
  {
   "cell_type": "code",
   "execution_count": 14,
   "id": "1891d11b",
   "metadata": {},
   "outputs": [
    {
     "name": "stdout",
     "output_type": "stream",
     "text": [
      "(2, 4566)\n"
     ]
    }
   ],
   "source": [
    "#Predict for multiple samples using Batch processing\n",
    "\n",
    "#Convert input into TF-IDF vector using same vecctorizer model\n",
    "\n",
    "predict_tfidf=vectorizer.transform([\"Free entry to a fun contest\",\n",
    "                                   \"Yup I will come over\"]).toarray()\n",
    "\n",
    "print(predict_tfidf.shape)"
   ]
  },
  {
   "cell_type": "code",
   "execution_count": 15,
   "id": "7b313f71",
   "metadata": {},
   "outputs": [
    {
     "name": "stdout",
     "output_type": "stream",
     "text": [
      "1/1 [==============================] - 0s 122ms/step\n",
      "Prediction Output: [1 0]\n"
     ]
    }
   ],
   "source": [
    "#predict using model\n",
    "\n",
    "prediction = np.argmax(model.predict(predict_tfidf),axis=1)\n",
    "print(\"Prediction Output:\",prediction)"
   ]
  },
  {
   "cell_type": "code",
   "execution_count": 16,
   "id": "c6ab63c1",
   "metadata": {},
   "outputs": [
    {
     "name": "stdout",
     "output_type": "stream",
     "text": [
      "prediction classes are ['spam' 'ham']\n"
     ]
    }
   ],
   "source": [
    "#Print prediction classes\n",
    "print(\"prediction classes are\",label_encoder.inverse_transform(prediction))"
   ]
  },
  {
   "cell_type": "code",
   "execution_count": null,
   "id": "59461499",
   "metadata": {},
   "outputs": [],
   "source": []
  }
 ],
 "metadata": {
  "kernelspec": {
   "display_name": "Python 3 (ipykernel)",
   "language": "python",
   "name": "python3"
  },
  "language_info": {
   "codemirror_mode": {
    "name": "ipython",
    "version": 3
   },
   "file_extension": ".py",
   "mimetype": "text/x-python",
   "name": "python",
   "nbconvert_exporter": "python",
   "pygments_lexer": "ipython3",
   "version": "3.11.5"
  }
 },
 "nbformat": 4,
 "nbformat_minor": 5
}
